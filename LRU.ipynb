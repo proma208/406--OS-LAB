{
  "nbformat": 4,
  "nbformat_minor": 0,
  "metadata": {
    "colab": {
      "provenance": []
    },
    "kernelspec": {
      "name": "python3",
      "display_name": "Python 3"
    },
    "language_info": {
      "name": "python"
    }
  },
  "cells": [
    {
      "cell_type": "markdown",
      "source": [
        "LRU"
      ],
      "metadata": {
        "id": "tRlZXFkeNryf"
      }
    },
    {
      "cell_type": "code",
      "execution_count": 1,
      "metadata": {
        "colab": {
          "base_uri": "https://localhost:8080/"
        },
        "id": "xsS29S-UNbdy",
        "outputId": "a48ba666-26f1-46ae-d113-45952bf14629"
      },
      "outputs": [
        {
          "output_type": "stream",
          "name": "stdout",
          "text": [
            "\n",
            "Total Page Faults: 6\n"
          ]
        }
      ],
      "source": [
        "def lru_page_replacement(pages, frame_size):\n",
        "    frames = []\n",
        "    page_faults = 0\n",
        "\n",
        "    for page in pages:\n",
        "        if page not in frames:\n",
        "            if len(frames) < frame_size:\n",
        "                frames.append(page)\n",
        "            else:\n",
        "                frames.pop(0)\n",
        "                frames.append(page)\n",
        "            page_faults += 1\n",
        "        else:\n",
        "            frames.remove(page)\n",
        "            frames.append(page)\n",
        "\n",
        "\n",
        "    print(f\"\\nTotal Page Faults: {page_faults}\")\n",
        "\n",
        "pages = [7, 0, 1, 2, 0, 3, 0, 4, 2, 3]\n",
        "frame_size = 4\n",
        "\n",
        "lru_page_replacement(pages, frame_size)\n"
      ]
    }
  ]
}