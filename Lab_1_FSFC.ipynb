{
  "nbformat": 4,
  "nbformat_minor": 0,
  "metadata": {
    "colab": {
      "provenance": []
    },
    "kernelspec": {
      "name": "python3",
      "display_name": "Python 3"
    },
    "language_info": {
      "name": "python"
    }
  },
  "cells": [
    {
      "cell_type": "markdown",
      "source": [
        "LAB TASK"
      ],
      "metadata": {
        "id": "XKtyF-Zr0s2U"
      }
    },
    {
      "cell_type": "code",
      "source": [
        "def calculate_fcfs(arrival_times, burst_times):\n",
        "    n = len(arrival_times)\n",
        "    indices = list(range(n))\n",
        "    indices.sort(key=lambda i: arrival_times[i])\n",
        "\n",
        "    sorted_arrival_times = [arrival_times[i] for i in indices]\n",
        "    sorted_burst_times = [burst_times[i] for i in indices]\n",
        "\n",
        "    waiting_times = [0] * n\n",
        "    turnaround_times = [0] * n\n",
        "    completion_times = [0] * n\n",
        "\n",
        "    completion_times[0] = sorted_arrival_times[0] + sorted_burst_times[0]\n",
        "\n",
        "    for i in range(1, n):\n",
        "        if completion_times[i - 1] < sorted_arrival_times[i]:\n",
        "            completion_times[i] = sorted_arrival_times[i] + sorted_burst_times[i]\n",
        "        else:\n",
        "            completion_times[i] = completion_times[i - 1] + sorted_burst_times[i]\n",
        "\n",
        "    for i in range(n):\n",
        "        turnaround_times[i] = completion_times[i] - sorted_arrival_times[i]\n",
        "        waiting_times[i] = turnaround_times[i] - sorted_burst_times[i]\n",
        "\n",
        "    return sorted_arrival_times, sorted_burst_times, waiting_times, turnaround_times\n",
        "\n",
        "arrival_times = [0, 1, 2, 3]\n",
        "burst_times = [4, 3, 1, 2]\n",
        "\n",
        "arrival_times, burst_times, waiting_times, turnaround_times = calculate_fcfs(arrival_times, burst_times)\n",
        "\n",
        "print(\"Process\\tArrival Time\\tBurst Time\\tWaiting Time\\tTurnaround Time\")\n",
        "for i in range(len(arrival_times)):\n",
        "    print(f\"{i+1}\\t\\t{arrival_times[i]}\\t\\t{burst_times[i]}\\t\\t{waiting_times[i]}\\t\\t{turnaround_times[i]}\")\n"
      ],
      "metadata": {
        "colab": {
          "base_uri": "https://localhost:8080/"
        },
        "id": "z1HOoJocrSKz",
        "outputId": "b5c0db70-8383-4fdb-825d-e5f2c6be26dc"
      },
      "execution_count": null,
      "outputs": [
        {
          "output_type": "stream",
          "name": "stdout",
          "text": [
            "Process\tArrival Time\tBurst Time\tWaiting Time\tTurnaround Time\n",
            "1\t\t0\t\t4\t\t0\t\t4\n",
            "2\t\t1\t\t3\t\t3\t\t6\n",
            "3\t\t2\t\t1\t\t5\t\t6\n",
            "4\t\t3\t\t2\t\t5\t\t7\n"
          ]
        }
      ]
    },
    {
      "cell_type": "markdown",
      "source": [
        "HOME WORK TASK 1"
      ],
      "metadata": {
        "id": "KmddNVBf0vY7"
      }
    },
    {
      "cell_type": "code",
      "source": [
        "def calculate_fcfs(arrival_times, burst_times):\n",
        "    n = len(arrival_times)\n",
        "    indices = list(range(n))\n",
        "    indices.sort(key=lambda i: arrival_times[i])\n",
        "\n",
        "    sorted_arrival_times = [arrival_times[i] for i in indices]\n",
        "    sorted_burst_times = [burst_times[i] for i in indices]\n",
        "\n",
        "    waiting_times = [0] * n\n",
        "    turnaround_times = [0] * n\n",
        "    completion_times = [0] * n\n",
        "\n",
        "    completion_times[0] = sorted_arrival_times[0] + sorted_burst_times[0]\n",
        "\n",
        "    for i in range(1, n):\n",
        "        if completion_times[i - 1] < sorted_arrival_times[i]:\n",
        "            completion_times[i] = sorted_arrival_times[i] + sorted_burst_times[i]\n",
        "        else:\n",
        "            completion_times[i] = completion_times[i - 1] + sorted_burst_times[i]\n",
        "\n",
        "    for i in range(n):\n",
        "        turnaround_times[i] = completion_times[i] - sorted_arrival_times[i]\n",
        "        waiting_times[i] = turnaround_times[i] - sorted_burst_times[i]\n",
        "\n",
        "    return sorted_arrival_times, sorted_burst_times, waiting_times, turnaround_times\n",
        "\n",
        "arrival_times = [2, 0, 4]\n",
        "burst_times = [5, 3, 4]\n",
        "\n",
        "arrival_times, burst_times, waiting_times, turnaround_times = calculate_fcfs(arrival_times, burst_times)\n",
        "\n",
        "print(\"Process\\tArrival Time\\tBurst Time\\tWaiting Time\\tTurnaround Time\")\n",
        "for i in range(len(arrival_times)):\n",
        "    print(f\"{i+1}\\t\\t{arrival_times[i]}\\t\\t{burst_times[i]}\\t\\t{waiting_times[i]}\\t\\t{turnaround_times[i]}\")\n"
      ],
      "metadata": {
        "colab": {
          "base_uri": "https://localhost:8080/"
        },
        "id": "OF0XDpTb0kC9",
        "outputId": "8e291de4-e8d0-4d2e-a091-47db18a4c72c"
      },
      "execution_count": 1,
      "outputs": [
        {
          "output_type": "stream",
          "name": "stdout",
          "text": [
            "Process\tArrival Time\tBurst Time\tWaiting Time\tTurnaround Time\n",
            "1\t\t0\t\t3\t\t0\t\t3\n",
            "2\t\t2\t\t5\t\t1\t\t6\n",
            "3\t\t4\t\t4\t\t4\t\t8\n"
          ]
        }
      ]
    }
  ]
}