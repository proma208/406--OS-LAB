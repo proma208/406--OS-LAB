{
  "nbformat": 4,
  "nbformat_minor": 0,
  "metadata": {
    "colab": {
      "provenance": []
    },
    "kernelspec": {
      "name": "python3",
      "display_name": "Python 3"
    },
    "language_info": {
      "name": "python"
    }
  },
  "cells": [
    {
      "cell_type": "code",
      "source": [
        "def sstf(requests, head):\n",
        "    requests = requests.copy()\n",
        "    if head in requests:\n",
        "        requests.remove(head)\n",
        "\n",
        "    total_seek = 0\n",
        "    current = head\n",
        "    while requests:\n",
        "        # Find request with shortest distance to current head\n",
        "        closest = min(requests, key=lambda x: abs(x - current))\n",
        "        total_seek += abs(current - closest)\n",
        "        current = closest\n",
        "        requests.remove(closest)\n",
        "    return total_seek\n",
        "\n",
        "# Input\n",
        "request_sequence = [0, 14, 41, 53, 65, 67, 98, 122, 124, 183, 199]\n",
        "initial_head = 53\n",
        "\n",
        "print(\"Total number of seek operations (SSTF):\", sstf(request_sequence, initial_head))\n"
      ],
      "metadata": {
        "id": "KtEackdsnGpH",
        "outputId": "040379d9-5265-417f-dd5e-fb547d1bf7bc",
        "colab": {
          "base_uri": "https://localhost:8080/"
        }
      },
      "execution_count": 10,
      "outputs": [
        {
          "output_type": "stream",
          "name": "stdout",
          "text": [
            "Total number of seek operations (SSTF): 369\n"
          ]
        }
      ]
    }
  ]
}