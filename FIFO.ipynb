{
  "nbformat": 4,
  "nbformat_minor": 0,
  "metadata": {
    "colab": {
      "provenance": []
    },
    "kernelspec": {
      "name": "python3",
      "display_name": "Python 3"
    },
    "language_info": {
      "name": "python"
    }
  },
  "cells": [
    {
      "cell_type": "markdown",
      "source": [
        "FIFO"
      ],
      "metadata": {
        "id": "GoUvUakFNLdn"
      }
    },
    {
      "cell_type": "code",
      "execution_count": 6,
      "metadata": {
        "colab": {
          "base_uri": "https://localhost:8080/"
        },
        "id": "QRtxYtmADLbs",
        "outputId": "6fb5bc25-8bdd-4f63-f588-78746182bce2"
      },
      "outputs": [
        {
          "output_type": "stream",
          "name": "stdout",
          "text": [
            "\n",
            "Total Page Faults: 6\n"
          ]
        }
      ],
      "source": [
        "\n",
        "pages = [1, 3, 0, 3, 5, 6, 3]\n",
        "frame_size = 3\n",
        "\n",
        "frames = []\n",
        "page_faults = 0\n",
        "\n",
        "for page in pages:\n",
        "    if page not in frames:\n",
        "        if len(frames) < frame_size:\n",
        "            frames.append(page)\n",
        "        else:\n",
        "            frames.pop(0)\n",
        "            frames.append(page)\n",
        "        page_faults += 1\n",
        "\n",
        "\n",
        "print(f\"\\nTotal Page Faults: {page_faults}\")\n"
      ]
    }
  ]
}