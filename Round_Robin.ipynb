{
  "nbformat": 4,
  "nbformat_minor": 0,
  "metadata": {
    "colab": {
      "provenance": []
    },
    "kernelspec": {
      "name": "python3",
      "display_name": "Python 3"
    },
    "language_info": {
      "name": "python"
    }
  },
  "cells": [
    {
      "cell_type": "code",
      "execution_count": null,
      "metadata": {
        "colab": {
          "base_uri": "https://localhost:8080/"
        },
        "id": "Hr0fGXrXmhre",
        "outputId": "23a424bc-016a-4d5e-df2a-ea92f266bb2d"
      },
      "outputs": [
        {
          "output_type": "stream",
          "name": "stdout",
          "text": [
            "PID\tArrival Time\tBurst Time\tCompletion Time\tTurnaround Time\tWaiting Time\n",
            "1\t0\t\t5\t\t12\t\t12\t\t7\n",
            "2\t1\t\t4\t\t11\t\t10\t\t6\n",
            "3\t2\t\t2\t\t6\t\t4\t\t2\n",
            "4\t4\t\t1\t\t9\t\t5\t\t4\n"
          ]
        }
      ],
      "source": [
        "from collections import deque\n",
        "\n",
        "def round_robin(processes, burst_time, arrival_time, quantum):\n",
        "    n = len(processes)\n",
        "    remaining_time = burst_time.copy()\n",
        "    completion_time = [0] * n\n",
        "    waiting_time = [0] * n\n",
        "    turnaround_time = [0] * n\n",
        "    ready_queue = deque()\n",
        "    time = 0\n",
        "    idx = 0\n",
        "\n",
        "    while True:\n",
        "\n",
        "        while idx < n and arrival_time[idx] <= time:\n",
        "            ready_queue.append(idx)\n",
        "            idx += 1\n",
        "\n",
        "        if not ready_queue:\n",
        "            if idx == n:\n",
        "                break\n",
        "            else:\n",
        "                time += 1\n",
        "                continue\n",
        "\n",
        "        current = ready_queue.popleft()\n",
        "        if remaining_time[current] > quantum:\n",
        "            time += quantum\n",
        "            remaining_time[current] -= quantum\n",
        "        else:\n",
        "            time += remaining_time[current]\n",
        "            completion_time[current] = time\n",
        "            turnaround_time[current] = completion_time[current] - arrival_time[current]\n",
        "            waiting_time[current] = turnaround_time[current] - burst_time[current]\n",
        "            remaining_time[current] = 0\n",
        "        while idx < n and arrival_time[idx] <= time:\n",
        "            ready_queue.append(idx)\n",
        "            idx += 1\n",
        "        if remaining_time[current] > 0:\n",
        "            ready_queue.append(current)\n",
        "\n",
        "    return completion_time, turnaround_time, waiting_time\n",
        "processes = [1, 2, 3, 4]\n",
        "arrival_time = [0, 1, 2, 4]\n",
        "burst_time = [5, 4, 2, 1]\n",
        "quantum = 2\n",
        "completion_time, turnaround_time, waiting_time = round_robin(processes, burst_time, arrival_time, quantum)\n",
        "\n",
        "print(\"PID\\tArrival Time\\tBurst Time\\tCompletion Time\\tTurnaround Time\\tWaiting Time\")\n",
        "for i in range(len(processes)):\n",
        "    print(f\"{processes[i]}\\t{arrival_time[i]}\\t\\t{burst_time[i]}\\t\\t{completion_time[i]}\\t\\t{turnaround_time[i]}\\t\\t{waiting_time[i]}\")"
      ]
    }
  ]
}