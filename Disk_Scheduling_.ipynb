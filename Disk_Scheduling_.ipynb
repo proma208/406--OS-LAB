{
  "nbformat": 4,
  "nbformat_minor": 0,
  "metadata": {
    "colab": {
      "provenance": []
    },
    "kernelspec": {
      "name": "python3",
      "display_name": "Python 3"
    },
    "language_info": {
      "name": "python"
    }
  },
  "cells": [
    {
      "cell_type": "code",
      "execution_count": 2,
      "metadata": {
        "colab": {
          "base_uri": "https://localhost:8080/"
        },
        "id": "x_-DeYXG4Y_P",
        "outputId": "8caa7a4a-1b68-4431-e555-dc2850570759"
      },
      "outputs": [
        {
          "output_type": "stream",
          "name": "stdout",
          "text": [
            "Seek Sequence: [176, 79, 34, 60, 92, 11, 41, 114]\n",
            "Total Seek Operations: 520\n"
          ]
        }
      ],
      "source": [
        "\n",
        "req_seq = [176, 79, 34, 60, 92, 11, 41, 114]\n",
        "head = 40\n",
        "\n",
        "total_seek_operations = 0\n",
        "current_head = head\n",
        "seek_sequence = []\n",
        "\n",
        "for request in req_seq:\n",
        "    seek_operations = abs(current_head - request)\n",
        "    total_seek_operations += seek_operations\n",
        "    current_head = request\n",
        "    seek_sequence.append(request)\n",
        "\n",
        "print(\"Seek Sequence:\", seek_sequence)\n",
        "print(\"Total Seek Operations:\", total_seek_operations)"
      ]
    }
  ]
}