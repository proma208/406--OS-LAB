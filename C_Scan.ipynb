{
  "nbformat": 4,
  "nbformat_minor": 0,
  "metadata": {
    "colab": {
      "provenance": []
    },
    "kernelspec": {
      "name": "python3",
      "display_name": "Python 3"
    },
    "language_info": {
      "name": "python"
    }
  },
  "cells": [
    {
      "cell_type": "code",
      "execution_count": 2,
      "metadata": {
        "colab": {
          "base_uri": "https://localhost:8080/"
        },
        "id": "fqLqN7-f9V7G",
        "outputId": "5e634465-fca0-464c-e834-302195802a8e"
      },
      "outputs": [
        {
          "output_type": "stream",
          "name": "stdout",
          "text": [
            "Total number of seek operations: 386\n"
          ]
        }
      ],
      "source": [
        "def cscan(requests, head, disk_size=200):\n",
        "    requests.sort()\n",
        "    total = 0\n",
        "\n",
        "    right = [r for r in requests if r >= head]\n",
        "    left = [r for r in requests if r < head]\n",
        "\n",
        "    for r in right:\n",
        "        total += abs(head - r)\n",
        "        head = r\n",
        "\n",
        "    total += (disk_size - 1 - head) + (disk_size - 1)\n",
        "    head = 0\n",
        "\n",
        "    for r in left:\n",
        "        total += abs(head - r)\n",
        "        head = r\n",
        "\n",
        "    return total\n",
        "reqs = [0, 14, 41, 53, 65, 67, 98, 122, 124, 183, 199]\n",
        "start = 53\n",
        "print(\"Total number of seek operations:\", cscan(reqs, start))"
      ]
    }
  ]
}