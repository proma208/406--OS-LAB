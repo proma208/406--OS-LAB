{
  "nbformat": 4,
  "nbformat_minor": 0,
  "metadata": {
    "colab": {
      "provenance": []
    },
    "kernelspec": {
      "name": "python3",
      "display_name": "Python 3"
    },
    "language_info": {
      "name": "python"
    }
  },
  "cells": [
    {
      "cell_type": "code",
      "source": [
        "pid = [1, 2, 3, 4]\n",
        "pri = [10, 20, 30, 40]\n",
        "at = [0, 1, 3, 4]\n",
        "bt = [5, 4, 2, 1]\n",
        "\n",
        "n = 4\n",
        "rt = bt[:]\n",
        "ct = [0] * n\n",
        "tat = [0] * n\n",
        "wt = [0] * n\n",
        "\n",
        "time_quantum = 2\n",
        "current_time = 0\n",
        "completed = 0\n",
        "\n",
        "processes = sorted(zip(pid, pri, at, bt), key=lambda x: x[2])\n",
        "\n",
        "while completed < n:\n",
        "    idx = -1\n",
        "    highest_priority = -1\n",
        "\n",
        "    for i in range(n):\n",
        "\n",
        "        pid_i, pri_i, at_i, bt_i = processes[i]\n",
        "\n",
        "        if at_i <= current_time and rt[i] > 0:\n",
        "            if pri_i > highest_priority:\n",
        "                highest_priority = pri_i\n",
        "                idx = i\n",
        "\n",
        "    if idx == -1:\n",
        "        current_time += 1\n",
        "        continue\n",
        "\n",
        "    exec_time = min(time_quantum, rt[idx])\n",
        "    rt[idx] -= exec_time\n",
        "    current_time += exec_time\n",
        "\n",
        "    if rt[idx] == 0:\n",
        "        ct[idx] = current_time\n",
        "        tat[idx] = ct[idx] - at[idx]\n",
        "        wt[idx] = tat[idx] - bt[idx]\n",
        "        completed += 1\n",
        "\n",
        "print(\"Pid\\tPriority\\tAT\\tBT\\tCT\\tTAT\\tWT\")\n",
        "for i in range(n):\n",
        "    print(f\"{pid[i]}\\t{pri[i]}\\t\\t{at[i]}\\t{bt[i]}\\t{ct[i]}\\t{tat[i]}\\t{wt[i]}\")\n"
      ],
      "metadata": {
        "colab": {
          "base_uri": "https://localhost:8080/"
        },
        "id": "GCjjNN0alRah",
        "outputId": "2f357b66-7c8f-44b2-f815-00941493b1cb"
      },
      "execution_count": null,
      "outputs": [
        {
          "output_type": "stream",
          "name": "stdout",
          "text": [
            "Pid\tPriority\tAT\tBT\tCT\tTAT\tWT\n",
            "1\t10\t\t0\t5\t12\t12\t7\n",
            "2\t20\t\t1\t4\t9\t8\t4\n",
            "3\t30\t\t3\t2\t7\t4\t2\n",
            "4\t40\t\t4\t1\t5\t1\t0\n"
          ]
        }
      ]
    },
    {
      "cell_type": "code",
      "source": [
        "pid = [1, 2, 3, 4]\n",
        "pri = [10, 20, 30, 40]\n",
        "at = [0, 1, 3, 4]\n",
        "bt = [5, 4, 2, 1]\n",
        "\n",
        "n = 4\n",
        "rt = bt[:]\n",
        "ct = [0] * n\n",
        "tat = [0] * n\n",
        "wt = [0] * n\n",
        "\n",
        "time_quantum = 2\n",
        "current_time = 0\n",
        "completed = 0\n",
        "\n",
        "processes = sorted(zip(pid, pri, at, bt), key=lambda x: x[2])\n",
        "\n",
        "\n",
        "running_queue = []\n",
        "\n",
        "while completed < n:\n",
        "    idx = -1\n",
        "    highest_priority = -1\n",
        "\n",
        "\n",
        "    for i in range(n):\n",
        "        pid_i, pri_i, at_i, bt_i = processes[i]\n",
        "\n",
        "        if at_i <= current_time and rt[i] > 0:\n",
        "            if pri_i > highest_priority:\n",
        "                highest_priority = pri_i\n",
        "                idx = i\n",
        "    if idx == -1:\n",
        "        current_time += 1\n",
        "        continue\n",
        "\n",
        "     running_queue.append(f\"P{processes[idx][0]}\")\n",
        "    exec_time = min(time_quantum, rt[idx])\n",
        "    rt[idx] -= exec_time\n",
        "    current_time += exec_time\n",
        "\n",
        "    if rt[idx] == 0:\n",
        "        ct[idx] = current_time\n",
        "        tat[idx] = ct[idx] - at[idx]\n",
        "        wt[idx] = tat[idx] - bt[idx]\n",
        "        completed += 1\n",
        "print(\"Running Queue:\")\n",
        "print(running_queue)\n",
        "print(\"Pid\\tPriority\\tAT\\tBT\\tCT\\tTAT\\tWT\")\n",
        "for i in range(n):\n",
        "    print(f\"{pid[i]}\\t{pri[i]}\\t\\t{at[i]}\\t{bt[i]}\\t{ct[i]}\\t{tat[i]}\\t{wt[i]}\")"
      ],
      "metadata": {
        "id": "V73JCbdDq-8E",
        "outputId": "08b38230-6eab-40c6-eb48-e6eb67aef190",
        "colab": {
          "base_uri": "https://localhost:8080/"
        }
      },
      "execution_count": null,
      "outputs": [
        {
          "output_type": "stream",
          "name": "stdout",
          "text": [
            "Running Queue:\n",
            "['P1', 'P2', 'P4', 'P3', 'P2', 'P1', 'P1']\n",
            "Pid\tPriority\tAT\tBT\tCT\tTAT\tWT\n",
            "1\t10\t\t0\t5\t12\t12\t7\n",
            "2\t20\t\t1\t4\t9\t8\t4\n",
            "3\t30\t\t3\t2\t7\t4\t2\n",
            "4\t40\t\t4\t1\t5\t1\t0\n"
          ]
        }
      ]
    }
  ]
}