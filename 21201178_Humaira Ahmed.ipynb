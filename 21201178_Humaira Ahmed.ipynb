{
  "nbformat": 4,
  "nbformat_minor": 0,
  "metadata": {
    "colab": {
      "provenance": []
    },
    "kernelspec": {
      "name": "python3",
      "display_name": "Python 3"
    },
    "language_info": {
      "name": "python"
    }
  },
  "cells": [
    {
      "cell_type": "markdown",
      "source": [
        "SSTF"
      ],
      "metadata": {
        "id": "d_uyG-ue4rHA"
      }
    },
    {
      "cell_type": "code",
      "source": [
        "def sstf(requests, head):\n",
        "    requests = requests.copy()\n",
        "    if head in requests:\n",
        "        requests.remove(head)\n",
        "\n",
        "    total_seek = 0\n",
        "    current = head\n",
        "    seek_sequence = [head]\n",
        "\n",
        "    while requests:\n",
        "        closest = min(requests, key=lambda x: abs(x - current))\n",
        "        total_seek += abs(current - closest)\n",
        "        current = closest\n",
        "        seek_sequence.append(current)\n",
        "        requests.remove(closest)\n",
        "\n",
        "    print(\"Seek Sequence:\", \" ,  \".join(map(str, seek_sequence)))\n",
        "    return total_seek\n",
        "\n",
        "# Input\n",
        "request_sequence = [137, 240, 179, 75, 118, 29, 15, 51]\n",
        "initial_head = 55\n",
        "\n",
        "print(\"Total number of seek operations (SSTF):\", sstf(request_sequence, initial_head))\n"
      ],
      "metadata": {
        "colab": {
          "base_uri": "https://localhost:8080/"
        },
        "id": "kKLHpTmb1Xx5",
        "outputId": "9e7436ad-90f5-478c-b39d-12d430089876"
      },
      "execution_count": 17,
      "outputs": [
        {
          "output_type": "stream",
          "name": "stdout",
          "text": [
            "Seek Sequence: 55 ,  51 ,  29 ,  15 ,  75 ,  118 ,  137 ,  179 ,  240\n",
            "Total number of seek operations (SSTF): 265\n"
          ]
        }
      ]
    },
    {
      "cell_type": "code",
      "source": [
        "n = 5\n",
        "process_name = [\"p1\", \"p2\", \"p3\", \"p4\", \"p5\"]\n",
        "arrival_time = [2, 10, 3, 2, 0]\n",
        "burst_time = [4, 1, 2, 5, 5]\n",
        "\n",
        "\n",
        "for i in range(n - 1):\n",
        "    for j in range(i + 1, n):\n",
        "        if arrival_time[i] > arrival_time[j]:\n",
        "            arrival_time[i], arrival_time[j] = arrival_time[j], arrival_time[i]\n",
        "            burst_time[i], burst_time[j] = burst_time[j], burst_time[i]\n",
        "            process_name[i], process_name[j] = process_name[j], process_name[i]\n",
        "\n",
        "completion_time = [0] * n\n",
        "waiting_time = [0] * n\n",
        "turnaround_time = [0] * n\n",
        "current_time = 0\n",
        "execution_order = []\n",
        "\n",
        "for i in range(n):\n",
        "    shortest = i\n",
        "    for j in range(i + 1, n):\n",
        "        if arrival_time[j] <= current_time and burst_time[j] < burst_time[shortest]:\n",
        "            shortest = j\n",
        "\n",
        "\n",
        "    arrival_time[i], arrival_time[shortest] = arrival_time[shortest], arrival_time[i]\n",
        "    burst_time[i], burst_time[shortest] = burst_time[shortest], burst_time[i]\n",
        "    process_name[i], process_name[shortest] = process_name[shortest], process_name[i]\n",
        "\n",
        "    execution_order.append(process_name[i])\n",
        "\n",
        "    if current_time < arrival_time[i]:\n",
        "        current_time = arrival_time[i]\n",
        "\n",
        "    completion_time[i] = current_time + burst_time[i]\n",
        "    turnaround_time[i] = completion_time[i] - arrival_time[i]\n",
        "    waiting_time[i] = turnaround_time[i] - burst_time[i]\n",
        "    current_time = completion_time[i]\n",
        "\n",
        "\n",
        "print(\"P_name\\tAT\\tBT\\tCT\\tTAT\\tWT\")\n",
        "for i in range(n):\n",
        "    print(f\"{process_name[i]}\\t{arrival_time[i]}\\t{burst_time[i]}\\t{completion_time[i]}\\t{turnaround_time[i]}\\t{waiting_time[i]}\")\n",
        "\n",
        "print(\"\\nProcess Execution Queue:\")\n",
        "print(\" -> \".join(execution_order))\n"
      ],
      "metadata": {
        "colab": {
          "base_uri": "https://localhost:8080/"
        },
        "id": "3k-VjUy62q_i",
        "outputId": "9fd57950-a792-4deb-e40c-11a3685c17d9"
      },
      "execution_count": 14,
      "outputs": [
        {
          "output_type": "stream",
          "name": "stdout",
          "text": [
            "P_name\tAT\tBT\tCT\tTAT\tWT\n",
            "p5\t0\t5\t5\t5\t0\n",
            "p3\t3\t2\t7\t4\t2\n",
            "p1\t2\t4\t11\t9\t5\n",
            "p2\t10\t1\t12\t2\t1\n",
            "p4\t2\t5\t17\t15\t10\n",
            "\n",
            "Process Execution Queue:\n",
            "p5 -> p3 -> p1 -> p2 -> p4\n"
          ]
        }
      ]
    }
  ]
}