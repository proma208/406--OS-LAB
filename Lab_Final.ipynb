{
  "nbformat": 4,
  "nbformat_minor": 0,
  "metadata": {
    "colab": {
      "provenance": []
    },
    "kernelspec": {
      "name": "python3",
      "display_name": "Python 3"
    },
    "language_info": {
      "name": "python"
    }
  },
  "cells": [
    {
      "cell_type": "code",
      "source": [
        "def fifo_page_replacement(pages, frame_size):\n",
        "    frame = []\n",
        "    hits = 0\n",
        "    misses = 0\n",
        "\n",
        "    print(\"Page\\tFrame\\t\\tHit/Miss\")\n",
        "    for page in pages:\n",
        "        if page in frame:\n",
        "            hits += 1\n",
        "            status = \"Hit\"\n",
        "        else:\n",
        "            misses += 1\n",
        "            if len(frame) == frame_size:\n",
        "                frame.pop(0)\n",
        "            frame.append(page)\n",
        "            status = \"Miss\"\n",
        "\n",
        "        print(f\"{page}\\t{frame}\\t{status}\")\n",
        "\n",
        "    return hits, misses\n",
        "\n",
        "pages = [0, 1, 5, 3, 5, 0, 2, 4, 7, 9, 0, 0, 3]\n",
        "frame_size = 4\n",
        "\n",
        "\n",
        "print(\"\\nTotal Hits:\", hits)\n",
        "print(\"Total Misses:\", misses)\n"
      ],
      "metadata": {
        "colab": {
          "base_uri": "https://localhost:8080/"
        },
        "id": "0Eeq0Sz56jCT",
        "outputId": "61bfb8bc-f6fd-439b-908c-4293b853c351"
      },
      "execution_count": 6,
      "outputs": [
        {
          "output_type": "stream",
          "name": "stdout",
          "text": [
            "\n",
            "Total Hits: 3\n",
            "Total Misses: 10\n"
          ]
        }
      ]
    }
  ]
}