{
  "nbformat": 4,
  "nbformat_minor": 0,
  "metadata": {
    "colab": {
      "provenance": []
    },
    "kernelspec": {
      "name": "python3",
      "display_name": "Python 3"
    },
    "language_info": {
      "name": "python"
    }
  },
  "cells": [
    {
      "cell_type": "code",
      "execution_count": 2,
      "metadata": {
        "colab": {
          "base_uri": "https://localhost:8080/"
        },
        "id": "VjCWlXVo0-ky",
        "outputId": "84d6ba2f-69b0-43d7-c239-b392ec35172d"
      },
      "outputs": [
        {
          "output_type": "stream",
          "name": "stdout",
          "text": [
            "Seek Sequence: [53, 65, 67, 98, 122, 124, 183, 199, 41, 14, 0]\n",
            "Total number of seek operations:: 345\n"
          ]
        }
      ],
      "source": [
        "def scan_disk_scheduling(requests, head, direction, disk_size):\n",
        "    requests.sort()\n",
        "    seek_sequence = []\n",
        "    seek_count = 0\n",
        "    left = [i for i in requests if i < head]\n",
        "    right = [i for i in requests if i >= head]\n",
        "\n",
        "    if direction == \"left\":\n",
        "\n",
        "        for i in reversed(left):\n",
        "            seek_sequence.append(i)\n",
        "            seek_count += abs(head - i)\n",
        "            head = i\n",
        "\n",
        "        if left:\n",
        "            seek_count += head\n",
        "            head = 0\n",
        "\n",
        "        for i in right:\n",
        "            seek_sequence.append(i)\n",
        "            seek_count += abs(head - i)\n",
        "            head = i\n",
        "    elif direction == \"right\":\n",
        "\n",
        "        for i in right:\n",
        "            seek_sequence.append(i)\n",
        "            seek_count += abs(head - i)\n",
        "            head = i\n",
        "\n",
        "        if right:\n",
        "            seek_count += (disk_size - 1 - head)\n",
        "            head = disk_size - 1\n",
        "\n",
        "        for i in reversed(left):\n",
        "            seek_sequence.append(i)\n",
        "            seek_count += abs(head - i)\n",
        "            head = i\n",
        "\n",
        "    return seek_sequence, seek_count\n",
        "\n",
        "\n",
        "#input\n",
        "requests = [0, 14, 41, 53, 65, 67, 98, 122, 124, 183, 199]\n",
        "head = 53\n",
        "direction = \"right\"\n",
        "disk_size = 200\n",
        "\n",
        "sequence, total_seek = scan_disk_scheduling(requests, head, direction, disk_size)\n",
        "\n",
        "print(\"Seek Sequence:\", sequence)\n",
        "print(\"Total number of seek operations::\", total_seek)"
      ]
    }
  ]
}